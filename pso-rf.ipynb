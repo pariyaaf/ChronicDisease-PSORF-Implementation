{
 "cells": [
  {
   "cell_type": "code",
   "execution_count": 1,
   "metadata": {
    "colab": {
     "base_uri": "https://localhost:8080/"
    },
    "id": "_BFm2cE82Ibf",
    "outputId": "8951cf71-e33f-4122-ec95-c1cea8070f75"
   },
   "outputs": [],
   "source": [
    "import numpy as np\n",
    "import pandas as pd\n",
    "import matplotlib.pyplot as plt\n",
    "import seaborn as sns\n",
    "\n",
    "from sklearn.model_selection import train_test_split\n",
    "from sklearn.preprocessing import StandardScaler\n",
    "from sklearn.impute import SimpleImputer\n",
    "from sklearn.metrics import accuracy_score, classification_report, confusion_matrix\n",
    "\n",
    "from imblearn.over_sampling import SMOTE\n",
    "\n",
    "import openml\n",
    "\n",
    "from imblearn.over_sampling import SMOTE\n",
    "from sklearn.preprocessing import LabelEncoder\n",
    "\n",
    "from fancyimpute import IterativeImputer\n",
    "\n",
    "\n",
    "import numpy as np\n",
    "from sklearn.ensemble import RandomForestClassifier\n",
    "from sklearn.model_selection import cross_val_score\n",
    "\n",
    "from sklearn.neighbors import KNeighborsClassifier\n",
    "from sklearn.svm import SVC\n",
    "from sklearn.tree import DecisionTreeClassifier\n",
    "from sklearn.naive_bayes import GaussianNB\n",
    "from sklearn.model_selection import StratifiedKFold\n",
    "\n",
    "from scipy.stats import friedmanchisquare\n",
    "import pandas as pd\n",
    "\n",
    "\n",
    "import matplotlib.pyplot as plt\n",
    "import seaborn as sns\n",
    "import pandas as pd\n",
    "from sklearn.ensemble import RandomForestClassifier\n"
   ]
  },
  {
   "cell_type": "code",
   "execution_count": 2,
   "metadata": {},
   "outputs": [
    {
     "name": "stdout",
     "output_type": "stream",
     "text": [
      "✅ Diabetes Dataset:\n",
      "(768, 8)\n",
      "   preg   plas  pres  skin   insu  mass   pedi   age\n",
      "0   6.0  148.0  72.0  35.0    0.0  33.6  0.627  50.0\n",
      "1   1.0   85.0  66.0  29.0    0.0  26.6  0.351  31.0\n",
      "2   8.0  183.0  64.0   0.0    0.0  23.3  0.672  32.0\n",
      "3   1.0   89.0  66.0  23.0   94.0  28.1  0.167  21.0\n",
      "4   0.0  137.0  40.0  35.0  168.0  43.1  2.288  33.0\n",
      "\n",
      "✅ Breast Cancer Dataset:\n",
      "(699, 9)\n",
      "   Clump_Thickness  Cell_Size_Uniformity  Cell_Shape_Uniformity  \\\n",
      "0              5.0                   1.0                    1.0   \n",
      "1              5.0                   4.0                    4.0   \n",
      "2              3.0                   1.0                    1.0   \n",
      "3              6.0                   8.0                    8.0   \n",
      "4              4.0                   1.0                    1.0   \n",
      "\n",
      "   Marginal_Adhesion  Single_Epi_Cell_Size  Bare_Nuclei  Bland_Chromatin  \\\n",
      "0                1.0                   2.0          1.0              3.0   \n",
      "1                5.0                   7.0         10.0              3.0   \n",
      "2                1.0                   2.0          2.0              3.0   \n",
      "3                1.0                   3.0          4.0              3.0   \n",
      "4                3.0                   2.0          1.0              3.0   \n",
      "\n",
      "   Normal_Nucleoli  Mitoses  \n",
      "0              1.0      1.0  \n",
      "1              2.0      1.0  \n",
      "2              1.0      1.0  \n",
      "3              7.0      1.0  \n",
      "4              1.0      1.0  \n"
     ]
    }
   ],
   "source": [
    "diabetes_oml = openml.datasets.get_dataset(37)\n",
    "X_diabetes, y_diabetes, _, _ = diabetes_oml.get_data(target=diabetes_oml.default_target_attribute)\n",
    "\n",
    "cancer_oml = openml.datasets.get_dataset(15)\n",
    "X_cancer, y_cancer, _, _ = cancer_oml.get_data(target=cancer_oml.default_target_attribute)\n",
    "\n",
    "print(\"✅ Diabetes Dataset:\")\n",
    "print(X_diabetes.shape)\n",
    "print(X_diabetes.head())\n",
    "\n",
    "print(\"\\n✅ Breast Cancer Dataset:\")\n",
    "print(X_cancer.shape)\n",
    "print(X_cancer.head())"
   ]
  },
  {
   "cell_type": "code",
   "execution_count": 3,
   "metadata": {
    "colab": {
     "base_uri": "https://localhost:8080/"
    },
    "id": "3sVjQhFI2N2p",
    "outputId": "a36a7881-33ff-470c-eed7-01cb9c46b1cd"
   },
   "outputs": [
    {
     "name": "stdout",
     "output_type": "stream",
     "text": [
      "Missing values in Diabetes dataset:\n",
      "preg    0\n",
      "plas    0\n",
      "pres    0\n",
      "skin    0\n",
      "insu    0\n",
      "mass    0\n",
      "pedi    0\n",
      "age     0\n",
      "dtype: int64\n",
      "\n",
      "Missing values in Breast Cancer dataset:\n",
      "Clump_Thickness           0\n",
      "Cell_Size_Uniformity      0\n",
      "Cell_Shape_Uniformity     0\n",
      "Marginal_Adhesion         0\n",
      "Single_Epi_Cell_Size      0\n",
      "Bare_Nuclei              16\n",
      "Bland_Chromatin           0\n",
      "Normal_Nucleoli           0\n",
      "Mitoses                   0\n",
      "dtype: int64\n",
      "\n",
      "✅ After EM Imputation:\n",
      "Diabetes nulls: 0\n",
      "Cancer nulls: 0\n"
     ]
    }
   ],
   "source": [
    "print(\"Missing values in Diabetes dataset:\")\n",
    "print(X_diabetes.isnull().sum())\n",
    "\n",
    "print(\"\\nMissing values in Breast Cancer dataset:\")\n",
    "print(X_cancer.isnull().sum())\n",
    "\n",
    "X_diabetes_imputed = IterativeImputer().fit_transform(X_diabetes)\n",
    "X_cancer_imputed = IterativeImputer().fit_transform(X_cancer)\n",
    "\n",
    "X_diabetes = pd.DataFrame(X_diabetes_imputed, columns=X_diabetes.columns)\n",
    "X_cancer = pd.DataFrame(X_cancer_imputed, columns=X_cancer.columns)\n",
    "\n",
    "print(\"\\n✅ After EM Imputation:\")\n",
    "print(\"Diabetes nulls:\", X_diabetes.isnull().sum().sum())\n",
    "print(\"Cancer nulls:\", X_cancer.isnull().sum().sum())\n"
   ]
  },
  {
   "cell_type": "code",
   "execution_count": 4,
   "metadata": {},
   "outputs": [
    {
     "name": "stdout",
     "output_type": "stream",
     "text": [
      "Before Label Encoding:\n",
      "Diabetes labels:\n",
      " ['tested_positive', 'tested_negative']\n",
      "Categories (2, object): ['tested_negative' < 'tested_positive']\n",
      "Breast Cancer labels:\n",
      " ['benign', 'malignant']\n",
      "Categories (2, object): ['benign' < 'malignant']\n"
     ]
    }
   ],
   "source": [
    "print(\"Before Label Encoding:\")\n",
    "print(\"Diabetes labels:\\n\", y_diabetes.unique())\n",
    "print(\"Breast Cancer labels:\\n\", y_cancer.unique())\n",
    "\n",
    "le_diabetes = LabelEncoder()\n",
    "y_diabetes_encoded = le_diabetes.fit_transform(y_diabetes)\n",
    "\n",
    "le_cancer = LabelEncoder()\n",
    "y_cancer_encoded = le_cancer.fit_transform(y_cancer)\n"
   ]
  },
  {
   "cell_type": "code",
   "execution_count": 5,
   "metadata": {
    "colab": {
     "base_uri": "https://localhost:8080/"
    },
    "id": "SpGYjRJJ2N40",
    "outputId": "018f4c36-b317-4fe3-fbcf-dcecdbb3f593"
   },
   "outputs": [
    {
     "name": "stdout",
     "output_type": "stream",
     "text": [
      "\n",
      "After SMOTE:\n",
      "Diabetes target distribution:\n",
      " 1    500\n",
      "0    500\n",
      "Name: count, dtype: int64\n",
      "\n",
      "Breast Cancer target distribution:\n",
      " 0    458\n",
      "1    458\n",
      "Name: count, dtype: int64\n"
     ]
    }
   ],
   "source": [
    "smote = SMOTE(random_state=42)\n",
    "X_diabetes_balanced, y_diabetes_balanced = smote.fit_resample(X_diabetes, y_diabetes_encoded)\n",
    "X_cancer_balanced, y_cancer_balanced = smote.fit_resample(X_cancer, y_cancer_encoded)\n",
    "\n",
    "print(\"\\nAfter SMOTE:\")\n",
    "print(\"Diabetes target distribution:\\n\", pd.Series(y_diabetes_balanced).value_counts())\n",
    "print(\"\\nBreast Cancer target distribution:\\n\", pd.Series(y_cancer_balanced).value_counts())"
   ]
  },
  {
   "cell_type": "code",
   "execution_count": 6,
   "metadata": {
    "colab": {
     "base_uri": "https://localhost:8080/"
    },
    "id": "BqIIT-Yz2N7H",
    "outputId": "b92a1144-12f1-4ac4-efb6-1a9c3b15a700"
   },
   "outputs": [],
   "source": [
    "def fitness(mask, X, y):\n",
    "    if np.sum(mask) == 0:\n",
    "        return 1 \n",
    "    X_selected = X[:, mask == 1]\n",
    "    model = RandomForestClassifier(n_estimators=100, random_state=42)\n",
    "    scores = cross_val_score(model, X_selected, y, cv=5, scoring='accuracy')\n",
    "    penalty = np.sum(mask) / len(mask)\n",
    "    return 1 - scores.mean() + 0.01 * penalty\n",
    "\n"
   ]
  },
  {
   "cell_type": "code",
   "execution_count": 7,
   "metadata": {},
   "outputs": [],
   "source": [
    "def binary_pso_feature_selection(X, y, n_particles=10, n_iterations=10):\n",
    "    dim = X.shape[1]\n",
    "    w = 0.7 \n",
    "    c1 = 1.5 \n",
    "    c2 = 1.5  \n",
    "\n",
    "    positions = np.random.randint(2, size=(n_particles, dim)) \n",
    "    velocities = np.random.rand(n_particles, dim)\n",
    "\n",
    "    pbest_positions = positions.copy()\n",
    "    pbest_scores = np.array([fitness(p, X, y) for p in positions])\n",
    "    gbest_index = np.argmin(pbest_scores)\n",
    "    gbest_position = pbest_positions[gbest_index].copy()\n",
    "\n",
    "    for iteration in range(n_iterations):\n",
    "        for i in range(n_particles):\n",
    "            r1 = np.random.rand(dim)\n",
    "            r2 = np.random.rand(dim)\n",
    "            velocities[i] = (w * velocities[i] +\n",
    "                             c1 * r1 * (pbest_positions[i] - positions[i]) +\n",
    "                             c2 * r2 * (gbest_position - positions[i]))\n",
    "            sigmoid = 1 / (1 + np.exp(-velocities[i]))\n",
    "            positions[i] = np.where(np.random.rand(dim) < sigmoid, 1, 0)\n",
    "\n",
    "            score = fitness(positions[i], X, y)\n",
    "            if score < pbest_scores[i]:\n",
    "                pbest_scores[i] = score\n",
    "                pbest_positions[i] = positions[i].copy()\n",
    "\n",
    "        gbest_index = np.argmin(pbest_scores)\n",
    "        gbest_position = pbest_positions[gbest_index].copy()\n",
    "        print(f\"Iteration {iteration+1}/{n_iterations}, Best Score: {pbest_scores[gbest_index]:.4f}\")\n",
    "\n",
    "    return gbest_position"
   ]
  },
  {
   "cell_type": "code",
   "execution_count": 8,
   "metadata": {},
   "outputs": [
    {
     "name": "stdout",
     "output_type": "stream",
     "text": [
      "Iteration 1/10, Best Score: 0.1885\n",
      "Iteration 2/10, Best Score: 0.1885\n",
      "Iteration 3/10, Best Score: 0.1805\n",
      "Iteration 4/10, Best Score: 0.1805\n",
      "Iteration 5/10, Best Score: 0.1805\n",
      "Iteration 6/10, Best Score: 0.1805\n",
      "Iteration 7/10, Best Score: 0.1805\n",
      "Iteration 8/10, Best Score: 0.1805\n",
      "Iteration 9/10, Best Score: 0.1805\n",
      "Iteration 10/10, Best Score: 0.1805\n",
      "\n",
      "✅ Number of selected features: 6\n",
      "🔍 Selected features:\n",
      "['plas', 'pres', 'insu', 'mass', 'pedi', 'age']\n"
     ]
    }
   ],
   "source": [
    "X_np = X_diabetes_balanced.to_numpy()\n",
    "y_np = y_diabetes_balanced\n",
    "\n",
    "best_mask = binary_pso_feature_selection(X_np, y_np, n_particles=100, n_iterations=10)\n",
    "\n",
    "selected_features_mask = best_mask == 1\n",
    "selected_features_names = X_diabetes.columns[selected_features_mask]\n",
    "\n",
    "print(\"\\n✅ Number of selected features:\", np.sum(selected_features_mask))\n",
    "print(\"🔍 Selected features:\")\n",
    "print(list(selected_features_names))\n"
   ]
  },
  {
   "cell_type": "code",
   "execution_count": 13,
   "metadata": {},
   "outputs": [
    {
     "name": "stdout",
     "output_type": "stream",
     "text": [
      "Iteration 1/10, Best Score: 0.0285\n",
      "Iteration 2/10, Best Score: 0.0285\n",
      "Iteration 3/10, Best Score: 0.0274\n",
      "Iteration 4/10, Best Score: 0.0274\n",
      "Iteration 5/10, Best Score: 0.0274\n",
      "Iteration 6/10, Best Score: 0.0274\n",
      "Iteration 7/10, Best Score: 0.0274\n",
      "Iteration 8/10, Best Score: 0.0274\n",
      "Iteration 9/10, Best Score: 0.0274\n",
      "Iteration 10/10, Best Score: 0.0274\n",
      "\n",
      "✅ Number of selected features (Cancer Dataset): 6\n",
      "🔍 Selected features (Cancer Dataset):\n",
      "['Clump_Thickness', 'Cell_Size_Uniformity', 'Cell_Shape_Uniformity', 'Single_Epi_Cell_Size', 'Bare_Nuclei', 'Bland_Chromatin']\n"
     ]
    }
   ],
   "source": [
    "X_np_cancer = X_cancer_balanced.to_numpy()\n",
    "y_np_cancer = y_cancer_balanced\n",
    "\n",
    "best_mask_cancer = binary_pso_feature_selection(X_np_cancer, y_np_cancer, n_particles=100, n_iterations=10)\n",
    "\n",
    "selected_features_mask_cancer = best_mask_cancer == 1\n",
    "selected_features_names_cancer = X_cancer.columns[selected_features_mask_cancer]\n",
    "\n",
    "print(\"\\n✅ Number of selected features (Cancer Dataset):\", np.sum(selected_features_mask_cancer))\n",
    "print(\"🔍 Selected features (Cancer Dataset):\")\n",
    "print(list(selected_features_names_cancer))\n"
   ]
  },
  {
   "cell_type": "code",
   "execution_count": 23,
   "metadata": {},
   "outputs": [
    {
     "name": "stderr",
     "output_type": "stream",
     "text": [
      "C:\\Users\\PARIYA\\AppData\\Local\\Temp\\ipykernel_23076\\2180812459.py:13: FutureWarning: \n",
      "\n",
      "Passing `palette` without assigning `hue` is deprecated and will be removed in v0.14.0. Assign the `y` variable to `hue` and set `legend=False` for the same effect.\n",
      "\n",
      "  sns.barplot(x='Importance', y='Feature', data=importance_df_diabetes, palette='mako')\n"
     ]
    },
    {
     "data": {
      "image/png": "[encoded data removed]",
      "text/plain": [
       "<Figure size 1000x600 with 1 Axes>"
      ]
     },
     "metadata": {},
     "output_type": "display_data"
    },
    {
     "name": "stderr",
     "output_type": "stream",
     "text": [
      "C:\\Users\\PARIYA\\AppData\\Local\\Temp\\ipykernel_23076\\2180812459.py:33: FutureWarning: \n",
      "\n",
      "Passing `palette` without assigning `hue` is deprecated and will be removed in v0.14.0. Assign the `y` variable to `hue` and set `legend=False` for the same effect.\n",
      "\n",
      "  sns.barplot(x='Importance', y='Feature', data=importance_df_cancer, palette='mako')\n"
     ]
    },
    {
     "data": {
      "image/png": "[encoded data removed]",
      "text/plain": [
       "<Figure size 1000x600 with 1 Axes>"
      ]
     },
     "metadata": {},
     "output_type": "display_data"
    }
   ],
   "source": [
    "rf_diabetes = RandomForestClassifier(n_estimators=100, random_state=42)\n",
    "rf_diabetes.fit(X_np[:, selected_features_mask], y_np)\n",
    "\n",
    "importances_diabetes = rf_diabetes.feature_importances_\n",
    "selected_names_diabetes = X_diabetes.columns[selected_features_mask]\n",
    "\n",
    "importance_df_diabetes = pd.DataFrame({\n",
    "    'Feature': selected_names_diabetes,\n",
    "    'Importance': importances_diabetes\n",
    "}).sort_values(by='Importance', ascending=False)\n",
    "\n",
    "plt.figure(figsize=(10, 6))\n",
    "sns.barplot(x='Importance', y='Feature', data=importance_df_diabetes, palette='mako')\n",
    "plt.title('Feature Importances (Selected by PSO) - Diabetes Dataset', fontsize=14)\n",
    "plt.xlabel('Importance Score')\n",
    "plt.ylabel('Feature Name')\n",
    "plt.tight_layout()\n",
    "plt.show()\n",
    "\n",
    "\n",
    "rf_cancer = RandomForestClassifier(n_estimators=100, random_state=42)\n",
    "rf_cancer.fit(X_np_cancer[:, selected_features_mask_cancer], y_np_cancer)\n",
    "\n",
    "importances_cancer = rf_cancer.feature_importances_\n",
    "selected_names_cancer = X_cancer.columns[selected_features_mask_cancer]\n",
    "\n",
    "importance_df_cancer = pd.DataFrame({\n",
    "    'Feature': selected_names_cancer,\n",
    "    'Importance': importances_cancer\n",
    "}).sort_values(by='Importance', ascending=False)\n",
    "\n",
    "plt.figure(figsize=(10, 6))\n",
    "sns.barplot(x='Importance', y='Feature', data=importance_df_cancer, palette='mako')\n",
    "plt.title('Feature Importances (Selected by PSO) - Breast Cancer Dataset', fontsize=14)\n",
    "plt.xlabel('Importance Score')\n",
    "plt.ylabel('Feature Name')\n",
    "plt.tight_layout()\n",
    "plt.show()\n"
   ]
  },
  {
   "cell_type": "code",
   "execution_count": 14,
   "metadata": {},
   "outputs": [],
   "source": [
    "models = {\n",
    "    \"Random Forest\": RandomForestClassifier(n_estimators=100, random_state=42),\n",
    "    \"KNN\": KNeighborsClassifier(),\n",
    "    \"SVM\": SVC(),\n",
    "    \"Decision Tree\": DecisionTreeClassifier(random_state=42),\n",
    "    \"Naive Bayes\": GaussianNB()\n",
    "}"
   ]
  },
  {
   "cell_type": "code",
   "execution_count": 15,
   "metadata": {
    "colab": {
     "base_uri": "https://localhost:8080/"
    },
    "id": "CafQ6JrQ2N9a",
    "outputId": "490c96c8-a5eb-4369-dbf9-4cf3be6f7071"
   },
   "outputs": [
    {
     "name": "stdout",
     "output_type": "stream",
     "text": [
      "🎯 Average Accuracy per Model:\n",
      "Random Forest: 0.8180\n",
      "KNN: 0.7400\n",
      "SVM: 0.7230\n",
      "Decision Tree: 0.7730\n",
      "Naive Bayes: 0.7480\n"
     ]
    }
   ],
   "source": [
    "X_selected = X_diabetes_balanced.iloc[:, selected_features_mask]\n",
    "\n",
    "\n",
    "model_scores = {name: [] for name in models.keys()}\n",
    "\n",
    "kf = StratifiedKFold(n_splits=5, shuffle=True, random_state=42)\n",
    "\n",
    "\n",
    "for train_index, test_index in kf.split(X_selected, y_diabetes_balanced):\n",
    "    X_train, X_test = X_selected.iloc[train_index], X_selected.iloc[test_index]\n",
    "    y_train, y_test = y_diabetes_balanced[train_index], y_diabetes_balanced[test_index]\n",
    "\n",
    "    for name, model in models.items():\n",
    "        model.fit(X_train, y_train)\n",
    "        y_pred = model.predict(X_test)\n",
    "        acc = accuracy_score(y_test, y_pred)\n",
    "        model_scores[name].append(acc)\n",
    "\n",
    "print(\"🎯 Average Accuracy per Model:\")\n",
    "for name, scores in model_scores.items():\n",
    "    print(f\"{name}: {np.mean(scores):.4f}\")\n"
   ]
  },
  {
   "cell_type": "code",
   "execution_count": 18,
   "metadata": {},
   "outputs": [
    {
     "name": "stdout",
     "output_type": "stream",
     "text": [
      "\n",
      "🎯 Average Accuracy per Model (Cancer Dataset):\n",
      "Random Forest: 0.9760\n",
      "KNN: 0.9814\n",
      "SVM: 0.9749\n",
      "Decision Tree: 0.9476\n",
      "Naive Bayes: 0.9694\n"
     ]
    }
   ],
   "source": [
    "X_selected_cancer = X_cancer_balanced.iloc[:, selected_features_mask_cancer]\n",
    "\n",
    "kf_cancer = StratifiedKFold(n_splits=5, shuffle=True, random_state=42)\n",
    "\n",
    "model_scores_cancer = {name: [] for name in models.keys()}\n",
    "\n",
    "for train_index, test_index in kf_cancer.split(X_selected_cancer, y_cancer_balanced):\n",
    "    X_train_cancer, X_test_cancer = X_selected_cancer.iloc[train_index], X_selected_cancer.iloc[test_index]\n",
    "    y_train_cancer, y_test_cancer = y_cancer_balanced[train_index], y_cancer_balanced[test_index]\n",
    "\n",
    "    for name, model in models.items():\n",
    "        model.fit(X_train_cancer, y_train_cancer)\n",
    "        y_pred_cancer = model.predict(X_test_cancer)\n",
    "        acc_cancer = accuracy_score(y_test_cancer, y_pred_cancer)\n",
    "        model_scores_cancer[name].append(acc_cancer)\n",
    "\n",
    "print(\"\\n🎯 Average Accuracy per Model (Cancer Dataset):\")\n",
    "for name, scores in model_scores_cancer.items():\n",
    "    print(f\"{name}: {np.mean(scores):.4f}\")\n"
   ]
  },
  {
   "cell_type": "code",
   "execution_count": null,
   "metadata": {},
   "outputs": [],
   "source": []
  }
 ],
 "metadata": {
  "colab": {
   "provenance": []
  },
  "kernelspec": {
   "display_name": "Python 3 (ipykernel)",
   "language": "python",
   "name": "python3"
  },
  "language_info": {
   "codemirror_mode": {
    "name": "ipython",
    "version": 3
   },
   "file_extension": ".py",
   "mimetype": "text/x-python",
   "name": "python",
   "nbconvert_exporter": "python",
   "pygments_lexer": "ipython3",
   "version": "3.11.5"
  }
 },
 "nbformat": 4,
 "nbformat_minor": 1
}
