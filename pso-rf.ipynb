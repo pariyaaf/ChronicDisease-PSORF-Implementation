{
 "cells": [
  {
   "cell_type": "code",
   "execution_count": 1,
   "metadata": {
    "colab": {
     "base_uri": "https://localhost:8080/"
    },
    "id": "_BFm2cE82Ibf",
    "outputId": "8951cf71-e33f-4122-ec95-c1cea8070f75"
   },
   "outputs": [],
   "source": [
    "import numpy as np\n",
    "import pandas as pd\n",
    "import matplotlib.pyplot as plt\n",
    "import seaborn as sns\n",
    "\n",
    "from sklearn.model_selection import train_test_split, cross_val_score, StratifiedKFold\n",
    "from sklearn.preprocessing import StandardScaler, LabelEncoder\n",
    "from sklearn.impute import SimpleImputer\n",
    "from sklearn.metrics import accuracy_score, classification_report, confusion_matrix\n",
    "from sklearn.ensemble import RandomForestClassifier\n",
    "from sklearn.neighbors import KNeighborsClassifier\n",
    "from sklearn.svm import SVC\n",
    "from sklearn.tree import DecisionTreeClassifier\n",
    "from sklearn.naive_bayes import GaussianNB\n",
    "\n",
    "from imblearn.over_sampling import SMOTE\n",
    "\n",
    "from fancyimpute import IterativeImputer\n",
    "\n",
    "from scipy.stats import friedmanchisquare\n",
    "\n",
    "import openml\n"
   ]
  },
  {
   "cell_type": "code",
   "execution_count": 2,
   "metadata": {},
   "outputs": [
    {
     "name": "stdout",
     "output_type": "stream",
     "text": [
      "✅ Diabetes Dataset:\n",
      "(768, 8)\n",
      "   preg   plas  pres  skin   insu  mass   pedi   age\n",
      "0   6.0  148.0  72.0  35.0    0.0  33.6  0.627  50.0\n",
      "1   1.0   85.0  66.0  29.0    0.0  26.6  0.351  31.0\n",
      "2   8.0  183.0  64.0   0.0    0.0  23.3  0.672  32.0\n",
      "3   1.0   89.0  66.0  23.0   94.0  28.1  0.167  21.0\n",
      "4   0.0  137.0  40.0  35.0  168.0  43.1  2.288  33.0\n",
      "\n",
      "✅ Breast Cancer Dataset:\n",
      "(699, 9)\n",
      "   Clump_Thickness  Cell_Size_Uniformity  Cell_Shape_Uniformity  \\\n",
      "0              5.0                   1.0                    1.0   \n",
      "1              5.0                   4.0                    4.0   \n",
      "2              3.0                   1.0                    1.0   \n",
      "3              6.0                   8.0                    8.0   \n",
      "4              4.0                   1.0                    1.0   \n",
      "\n",
      "   Marginal_Adhesion  Single_Epi_Cell_Size  Bare_Nuclei  Bland_Chromatin  \\\n",
      "0                1.0                   2.0          1.0              3.0   \n",
      "1                5.0                   7.0         10.0              3.0   \n",
      "2                1.0                   2.0          2.0              3.0   \n",
      "3                1.0                   3.0          4.0              3.0   \n",
      "4                3.0                   2.0          1.0              3.0   \n",
      "\n",
      "   Normal_Nucleoli  Mitoses  \n",
      "0              1.0      1.0  \n",
      "1              2.0      1.0  \n",
      "2              1.0      1.0  \n",
      "3              7.0      1.0  \n",
      "4              1.0      1.0  \n"
     ]
    }
   ],
   "source": [
    "diabetes_oml = openml.datasets.get_dataset(37)\n",
    "X_diabetes, y_diabetes, _, _ = diabetes_oml.get_data(target=diabetes_oml.default_target_attribute)\n",
    "\n",
    "cancer_oml = openml.datasets.get_dataset(15)\n",
    "X_cancer, y_cancer, _, _ = cancer_oml.get_data(target=cancer_oml.default_target_attribute)\n",
    "\n",
    "print(\"✅ Diabetes Dataset:\")\n",
    "print(X_diabetes.shape)\n",
    "print(X_diabetes.head())\n",
    "\n",
    "print(\"\\n✅ Breast Cancer Dataset:\")\n",
    "print(X_cancer.shape)\n",
    "print(X_cancer.head())"
   ]
  }
 ],
 "metadata": {
  "colab": {
   "provenance": []
  },
  "kernelspec": {
   "display_name": "Python 3 (ipykernel)",
   "language": "python",
   "name": "python3"
  },
  "language_info": {
   "codemirror_mode": {
    "name": "ipython",
    "version": 3
   },
   "file_extension": ".py",
   "mimetype": "text/x-python",
   "name": "python",
   "nbconvert_exporter": "python",
   "pygments_lexer": "ipython3",
   "version": "3.11.5"
  }
 },
 "nbformat": 4,
 "nbformat_minor": 1
}
